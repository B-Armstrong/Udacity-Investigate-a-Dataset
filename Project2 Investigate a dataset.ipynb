{
 "cells": [
  {
   "cell_type": "markdown",
   "metadata": {},
   "source": [
    "# Project: Brazil medical appointment no show analysis\n",
    "\n",
    "## Table of Contents\n",
    "<ul>\n",
    "<li><a href=\"#intro\">Introduction</a></li>\n",
    "<li><a href=\"#wrangling\">Data Wrangling</a></li>\n",
    "<li><a href=\"#eda\">Exploratory Data Analysis</a></li>\n",
    "<li><a href=\"#conclusions\">Conclusions</a></li>\n",
    "</ul>"
   ]
  },
  {
   "cell_type": "markdown",
   "metadata": {},
   "source": [
    "<a id='intro'></a>\n",
    "## Introduction\n",
    "> This project will analyze the data from the kaggle no show medical appointment dataset.  The analysis will be investigating what trends lead to a person not showing up for their medical appointment."
   ]
  },
  {
   "cell_type": "code",
   "execution_count": 1,
   "metadata": {},
   "outputs": [],
   "source": [
    "#import libraries needed to perform analysis\n",
    "import numpy as np\n",
    "import pandas as pd\n",
    "import matplotlib.pyplot as plt\n",
    "import seaborn as sns\n",
    "import datetime as dt\n",
    "%matplotlib inline"
   ]
  },
  {
   "cell_type": "markdown",
   "metadata": {},
   "source": [
    "<a id='wrangling'></a>\n",
    "## Data Wrangling\n",
    "\n",
    "> The below section will involve loading the .csv file and looking at the content to understand structure, data-types, missing information and anomolies.  I will then start to manipulate the dataset based on observations.\n",
    "\n",
    "### General Properties\n"
   ]
  },
  {
   "cell_type": "code",
   "execution_count": 2,
   "metadata": {},
   "outputs": [
    {
     "name": "stdout",
     "output_type": "stream",
     "text": [
      "<class 'pandas.core.frame.DataFrame'>\n",
      "RangeIndex: 110527 entries, 0 to 110526\n",
      "Data columns (total 14 columns):\n",
      "PatientId         110527 non-null float64\n",
      "AppointmentID     110527 non-null int64\n",
      "Gender            110527 non-null object\n",
      "ScheduledDay      110527 non-null object\n",
      "AppointmentDay    110527 non-null object\n",
      "Age               110527 non-null int64\n",
      "Neighbourhood     110527 non-null object\n",
      "Scholarship       110527 non-null int64\n",
      "Hipertension      110527 non-null int64\n",
      "Diabetes          110527 non-null int64\n",
      "Alcoholism        110527 non-null int64\n",
      "Handcap           110527 non-null int64\n",
      "SMS_received      110527 non-null int64\n",
      "No-show           110527 non-null object\n",
      "dtypes: float64(1), int64(8), object(5)\n",
      "memory usage: 11.8+ MB\n"
     ]
    }
   ],
   "source": [
    "# use panda to read in noshowappointments-kagglev2-may-2016.csv\n",
    "df_noshow_data = pd.read_csv('noshowappointments-kagglev2-may-2016.csv')\n",
    "#  use info method to examine data for datatypes, missing values, number of rows, columnt headings.\n",
    "df_noshow_data.info()\n"
   ]
  },
  {
   "cell_type": "markdown",
   "metadata": {},
   "source": [
    ">Info is a very useful method to understand the dataset. I noticed right away the date columns (scheduedDay and appointmentDay) were objects which generally means they are strings.  I see that the No-show column is a string in order for me to do my analysis I will need to make this into a datatype similar to the int64 columns (Schiolarship, Hipertension, etc).  I also note there are no missing values and all rows have data.  the dataset has 14 columns and 110527 rows.  It is clear to me that PatientID and AppointmentID are used as primary keys and will add no value to the analysis of the data set.  I will also make all column names lower case and fix No-show to no_show."
   ]
  },
  {
   "cell_type": "code",
   "execution_count": 3,
   "metadata": {},
   "outputs": [
    {
     "data": {
      "text/html": [
       "<div>\n",
       "<style scoped>\n",
       "    .dataframe tbody tr th:only-of-type {\n",
       "        vertical-align: middle;\n",
       "    }\n",
       "\n",
       "    .dataframe tbody tr th {\n",
       "        vertical-align: top;\n",
       "    }\n",
       "\n",
       "    .dataframe thead th {\n",
       "        text-align: right;\n",
       "    }\n",
       "</style>\n",
       "<table border=\"1\" class=\"dataframe\">\n",
       "  <thead>\n",
       "    <tr style=\"text-align: right;\">\n",
       "      <th></th>\n",
       "      <th>PatientId</th>\n",
       "      <th>AppointmentID</th>\n",
       "      <th>Gender</th>\n",
       "      <th>ScheduledDay</th>\n",
       "      <th>AppointmentDay</th>\n",
       "      <th>Age</th>\n",
       "      <th>Neighbourhood</th>\n",
       "      <th>Scholarship</th>\n",
       "      <th>Hipertension</th>\n",
       "      <th>Diabetes</th>\n",
       "      <th>Alcoholism</th>\n",
       "      <th>Handcap</th>\n",
       "      <th>SMS_received</th>\n",
       "      <th>No-show</th>\n",
       "    </tr>\n",
       "  </thead>\n",
       "  <tbody>\n",
       "    <tr>\n",
       "      <th>0</th>\n",
       "      <td>2.987250e+13</td>\n",
       "      <td>5642903</td>\n",
       "      <td>F</td>\n",
       "      <td>2016-04-29T18:38:08Z</td>\n",
       "      <td>2016-04-29T00:00:00Z</td>\n",
       "      <td>62</td>\n",
       "      <td>JARDIM DA PENHA</td>\n",
       "      <td>0</td>\n",
       "      <td>1</td>\n",
       "      <td>0</td>\n",
       "      <td>0</td>\n",
       "      <td>0</td>\n",
       "      <td>0</td>\n",
       "      <td>No</td>\n",
       "    </tr>\n",
       "    <tr>\n",
       "      <th>1</th>\n",
       "      <td>5.589978e+14</td>\n",
       "      <td>5642503</td>\n",
       "      <td>M</td>\n",
       "      <td>2016-04-29T16:08:27Z</td>\n",
       "      <td>2016-04-29T00:00:00Z</td>\n",
       "      <td>56</td>\n",
       "      <td>JARDIM DA PENHA</td>\n",
       "      <td>0</td>\n",
       "      <td>0</td>\n",
       "      <td>0</td>\n",
       "      <td>0</td>\n",
       "      <td>0</td>\n",
       "      <td>0</td>\n",
       "      <td>No</td>\n",
       "    </tr>\n",
       "    <tr>\n",
       "      <th>2</th>\n",
       "      <td>4.262962e+12</td>\n",
       "      <td>5642549</td>\n",
       "      <td>F</td>\n",
       "      <td>2016-04-29T16:19:04Z</td>\n",
       "      <td>2016-04-29T00:00:00Z</td>\n",
       "      <td>62</td>\n",
       "      <td>MATA DA PRAIA</td>\n",
       "      <td>0</td>\n",
       "      <td>0</td>\n",
       "      <td>0</td>\n",
       "      <td>0</td>\n",
       "      <td>0</td>\n",
       "      <td>0</td>\n",
       "      <td>No</td>\n",
       "    </tr>\n",
       "    <tr>\n",
       "      <th>3</th>\n",
       "      <td>8.679512e+11</td>\n",
       "      <td>5642828</td>\n",
       "      <td>F</td>\n",
       "      <td>2016-04-29T17:29:31Z</td>\n",
       "      <td>2016-04-29T00:00:00Z</td>\n",
       "      <td>8</td>\n",
       "      <td>PONTAL DE CAMBURI</td>\n",
       "      <td>0</td>\n",
       "      <td>0</td>\n",
       "      <td>0</td>\n",
       "      <td>0</td>\n",
       "      <td>0</td>\n",
       "      <td>0</td>\n",
       "      <td>No</td>\n",
       "    </tr>\n",
       "    <tr>\n",
       "      <th>4</th>\n",
       "      <td>8.841186e+12</td>\n",
       "      <td>5642494</td>\n",
       "      <td>F</td>\n",
       "      <td>2016-04-29T16:07:23Z</td>\n",
       "      <td>2016-04-29T00:00:00Z</td>\n",
       "      <td>56</td>\n",
       "      <td>JARDIM DA PENHA</td>\n",
       "      <td>0</td>\n",
       "      <td>1</td>\n",
       "      <td>1</td>\n",
       "      <td>0</td>\n",
       "      <td>0</td>\n",
       "      <td>0</td>\n",
       "      <td>No</td>\n",
       "    </tr>\n",
       "    <tr>\n",
       "      <th>5</th>\n",
       "      <td>9.598513e+13</td>\n",
       "      <td>5626772</td>\n",
       "      <td>F</td>\n",
       "      <td>2016-04-27T08:36:51Z</td>\n",
       "      <td>2016-04-29T00:00:00Z</td>\n",
       "      <td>76</td>\n",
       "      <td>REPÚBLICA</td>\n",
       "      <td>0</td>\n",
       "      <td>1</td>\n",
       "      <td>0</td>\n",
       "      <td>0</td>\n",
       "      <td>0</td>\n",
       "      <td>0</td>\n",
       "      <td>No</td>\n",
       "    </tr>\n",
       "    <tr>\n",
       "      <th>6</th>\n",
       "      <td>7.336882e+14</td>\n",
       "      <td>5630279</td>\n",
       "      <td>F</td>\n",
       "      <td>2016-04-27T15:05:12Z</td>\n",
       "      <td>2016-04-29T00:00:00Z</td>\n",
       "      <td>23</td>\n",
       "      <td>GOIABEIRAS</td>\n",
       "      <td>0</td>\n",
       "      <td>0</td>\n",
       "      <td>0</td>\n",
       "      <td>0</td>\n",
       "      <td>0</td>\n",
       "      <td>0</td>\n",
       "      <td>Yes</td>\n",
       "    </tr>\n",
       "    <tr>\n",
       "      <th>7</th>\n",
       "      <td>3.449833e+12</td>\n",
       "      <td>5630575</td>\n",
       "      <td>F</td>\n",
       "      <td>2016-04-27T15:39:58Z</td>\n",
       "      <td>2016-04-29T00:00:00Z</td>\n",
       "      <td>39</td>\n",
       "      <td>GOIABEIRAS</td>\n",
       "      <td>0</td>\n",
       "      <td>0</td>\n",
       "      <td>0</td>\n",
       "      <td>0</td>\n",
       "      <td>0</td>\n",
       "      <td>0</td>\n",
       "      <td>Yes</td>\n",
       "    </tr>\n",
       "    <tr>\n",
       "      <th>8</th>\n",
       "      <td>5.639473e+13</td>\n",
       "      <td>5638447</td>\n",
       "      <td>F</td>\n",
       "      <td>2016-04-29T08:02:16Z</td>\n",
       "      <td>2016-04-29T00:00:00Z</td>\n",
       "      <td>21</td>\n",
       "      <td>ANDORINHAS</td>\n",
       "      <td>0</td>\n",
       "      <td>0</td>\n",
       "      <td>0</td>\n",
       "      <td>0</td>\n",
       "      <td>0</td>\n",
       "      <td>0</td>\n",
       "      <td>No</td>\n",
       "    </tr>\n",
       "    <tr>\n",
       "      <th>9</th>\n",
       "      <td>7.812456e+13</td>\n",
       "      <td>5629123</td>\n",
       "      <td>F</td>\n",
       "      <td>2016-04-27T12:48:25Z</td>\n",
       "      <td>2016-04-29T00:00:00Z</td>\n",
       "      <td>19</td>\n",
       "      <td>CONQUISTA</td>\n",
       "      <td>0</td>\n",
       "      <td>0</td>\n",
       "      <td>0</td>\n",
       "      <td>0</td>\n",
       "      <td>0</td>\n",
       "      <td>0</td>\n",
       "      <td>No</td>\n",
       "    </tr>\n",
       "  </tbody>\n",
       "</table>\n",
       "</div>"
      ],
      "text/plain": [
       "      PatientId  AppointmentID Gender          ScheduledDay  \\\n",
       "0  2.987250e+13        5642903      F  2016-04-29T18:38:08Z   \n",
       "1  5.589978e+14        5642503      M  2016-04-29T16:08:27Z   \n",
       "2  4.262962e+12        5642549      F  2016-04-29T16:19:04Z   \n",
       "3  8.679512e+11        5642828      F  2016-04-29T17:29:31Z   \n",
       "4  8.841186e+12        5642494      F  2016-04-29T16:07:23Z   \n",
       "5  9.598513e+13        5626772      F  2016-04-27T08:36:51Z   \n",
       "6  7.336882e+14        5630279      F  2016-04-27T15:05:12Z   \n",
       "7  3.449833e+12        5630575      F  2016-04-27T15:39:58Z   \n",
       "8  5.639473e+13        5638447      F  2016-04-29T08:02:16Z   \n",
       "9  7.812456e+13        5629123      F  2016-04-27T12:48:25Z   \n",
       "\n",
       "         AppointmentDay  Age      Neighbourhood  Scholarship  Hipertension  \\\n",
       "0  2016-04-29T00:00:00Z   62    JARDIM DA PENHA            0             1   \n",
       "1  2016-04-29T00:00:00Z   56    JARDIM DA PENHA            0             0   \n",
       "2  2016-04-29T00:00:00Z   62      MATA DA PRAIA            0             0   \n",
       "3  2016-04-29T00:00:00Z    8  PONTAL DE CAMBURI            0             0   \n",
       "4  2016-04-29T00:00:00Z   56    JARDIM DA PENHA            0             1   \n",
       "5  2016-04-29T00:00:00Z   76          REPÚBLICA            0             1   \n",
       "6  2016-04-29T00:00:00Z   23         GOIABEIRAS            0             0   \n",
       "7  2016-04-29T00:00:00Z   39         GOIABEIRAS            0             0   \n",
       "8  2016-04-29T00:00:00Z   21         ANDORINHAS            0             0   \n",
       "9  2016-04-29T00:00:00Z   19          CONQUISTA            0             0   \n",
       "\n",
       "   Diabetes  Alcoholism  Handcap  SMS_received No-show  \n",
       "0         0           0        0             0      No  \n",
       "1         0           0        0             0      No  \n",
       "2         0           0        0             0      No  \n",
       "3         0           0        0             0      No  \n",
       "4         1           0        0             0      No  \n",
       "5         0           0        0             0      No  \n",
       "6         0           0        0             0     Yes  \n",
       "7         0           0        0             0     Yes  \n",
       "8         0           0        0             0      No  \n",
       "9         0           0        0             0      No  "
      ]
     },
     "execution_count": 3,
     "metadata": {},
     "output_type": "execute_result"
    }
   ],
   "source": [
    "# Use head method to examine first 10 rows of the data file to assist in understanding how data is presented\n",
    "df_noshow_data.head(10)"
   ]
  },
  {
   "cell_type": "markdown",
   "metadata": {},
   "source": [
    ">The next step I take is to use the head method. This allows me to see how the data is presented. The first thing I notice is the columns: scholarship,hipertension, diabetes, slcoholism, handcap, sms_received appear to be either 0 or 1 this is basically a Boolean data type for my analysis I will assume a 1 = they have the disease/scholarship and a 0 = they don't have the disease/scholarship. At this piont I am struggling to determine if I should change this to a boolean data type? I also need to do some type of data integrity checking to ensure all mentioned columns rows only have a 1 or 0 in them."
   ]
  },
  {
   "cell_type": "code",
   "execution_count": 4,
   "metadata": {},
   "outputs": [
    {
     "data": {
      "text/html": [
       "<div>\n",
       "<style scoped>\n",
       "    .dataframe tbody tr th:only-of-type {\n",
       "        vertical-align: middle;\n",
       "    }\n",
       "\n",
       "    .dataframe tbody tr th {\n",
       "        vertical-align: top;\n",
       "    }\n",
       "\n",
       "    .dataframe thead th {\n",
       "        text-align: right;\n",
       "    }\n",
       "</style>\n",
       "<table border=\"1\" class=\"dataframe\">\n",
       "  <thead>\n",
       "    <tr style=\"text-align: right;\">\n",
       "      <th></th>\n",
       "      <th>PatientId</th>\n",
       "      <th>AppointmentID</th>\n",
       "      <th>Age</th>\n",
       "      <th>Scholarship</th>\n",
       "      <th>Hipertension</th>\n",
       "      <th>Diabetes</th>\n",
       "      <th>Alcoholism</th>\n",
       "      <th>Handcap</th>\n",
       "      <th>SMS_received</th>\n",
       "    </tr>\n",
       "  </thead>\n",
       "  <tbody>\n",
       "    <tr>\n",
       "      <th>count</th>\n",
       "      <td>1.105270e+05</td>\n",
       "      <td>1.105270e+05</td>\n",
       "      <td>110527.000000</td>\n",
       "      <td>110527.000000</td>\n",
       "      <td>110527.000000</td>\n",
       "      <td>110527.000000</td>\n",
       "      <td>110527.000000</td>\n",
       "      <td>110527.000000</td>\n",
       "      <td>110527.000000</td>\n",
       "    </tr>\n",
       "    <tr>\n",
       "      <th>mean</th>\n",
       "      <td>1.474963e+14</td>\n",
       "      <td>5.675305e+06</td>\n",
       "      <td>37.088874</td>\n",
       "      <td>0.098266</td>\n",
       "      <td>0.197246</td>\n",
       "      <td>0.071865</td>\n",
       "      <td>0.030400</td>\n",
       "      <td>0.022248</td>\n",
       "      <td>0.321026</td>\n",
       "    </tr>\n",
       "    <tr>\n",
       "      <th>std</th>\n",
       "      <td>2.560949e+14</td>\n",
       "      <td>7.129575e+04</td>\n",
       "      <td>23.110205</td>\n",
       "      <td>0.297675</td>\n",
       "      <td>0.397921</td>\n",
       "      <td>0.258265</td>\n",
       "      <td>0.171686</td>\n",
       "      <td>0.161543</td>\n",
       "      <td>0.466873</td>\n",
       "    </tr>\n",
       "    <tr>\n",
       "      <th>min</th>\n",
       "      <td>3.921784e+04</td>\n",
       "      <td>5.030230e+06</td>\n",
       "      <td>-1.000000</td>\n",
       "      <td>0.000000</td>\n",
       "      <td>0.000000</td>\n",
       "      <td>0.000000</td>\n",
       "      <td>0.000000</td>\n",
       "      <td>0.000000</td>\n",
       "      <td>0.000000</td>\n",
       "    </tr>\n",
       "    <tr>\n",
       "      <th>25%</th>\n",
       "      <td>4.172614e+12</td>\n",
       "      <td>5.640286e+06</td>\n",
       "      <td>18.000000</td>\n",
       "      <td>0.000000</td>\n",
       "      <td>0.000000</td>\n",
       "      <td>0.000000</td>\n",
       "      <td>0.000000</td>\n",
       "      <td>0.000000</td>\n",
       "      <td>0.000000</td>\n",
       "    </tr>\n",
       "    <tr>\n",
       "      <th>50%</th>\n",
       "      <td>3.173184e+13</td>\n",
       "      <td>5.680573e+06</td>\n",
       "      <td>37.000000</td>\n",
       "      <td>0.000000</td>\n",
       "      <td>0.000000</td>\n",
       "      <td>0.000000</td>\n",
       "      <td>0.000000</td>\n",
       "      <td>0.000000</td>\n",
       "      <td>0.000000</td>\n",
       "    </tr>\n",
       "    <tr>\n",
       "      <th>75%</th>\n",
       "      <td>9.439172e+13</td>\n",
       "      <td>5.725524e+06</td>\n",
       "      <td>55.000000</td>\n",
       "      <td>0.000000</td>\n",
       "      <td>0.000000</td>\n",
       "      <td>0.000000</td>\n",
       "      <td>0.000000</td>\n",
       "      <td>0.000000</td>\n",
       "      <td>1.000000</td>\n",
       "    </tr>\n",
       "    <tr>\n",
       "      <th>max</th>\n",
       "      <td>9.999816e+14</td>\n",
       "      <td>5.790484e+06</td>\n",
       "      <td>115.000000</td>\n",
       "      <td>1.000000</td>\n",
       "      <td>1.000000</td>\n",
       "      <td>1.000000</td>\n",
       "      <td>1.000000</td>\n",
       "      <td>4.000000</td>\n",
       "      <td>1.000000</td>\n",
       "    </tr>\n",
       "  </tbody>\n",
       "</table>\n",
       "</div>"
      ],
      "text/plain": [
       "          PatientId  AppointmentID            Age    Scholarship  \\\n",
       "count  1.105270e+05   1.105270e+05  110527.000000  110527.000000   \n",
       "mean   1.474963e+14   5.675305e+06      37.088874       0.098266   \n",
       "std    2.560949e+14   7.129575e+04      23.110205       0.297675   \n",
       "min    3.921784e+04   5.030230e+06      -1.000000       0.000000   \n",
       "25%    4.172614e+12   5.640286e+06      18.000000       0.000000   \n",
       "50%    3.173184e+13   5.680573e+06      37.000000       0.000000   \n",
       "75%    9.439172e+13   5.725524e+06      55.000000       0.000000   \n",
       "max    9.999816e+14   5.790484e+06     115.000000       1.000000   \n",
       "\n",
       "        Hipertension       Diabetes     Alcoholism        Handcap  \\\n",
       "count  110527.000000  110527.000000  110527.000000  110527.000000   \n",
       "mean        0.197246       0.071865       0.030400       0.022248   \n",
       "std         0.397921       0.258265       0.171686       0.161543   \n",
       "min         0.000000       0.000000       0.000000       0.000000   \n",
       "25%         0.000000       0.000000       0.000000       0.000000   \n",
       "50%         0.000000       0.000000       0.000000       0.000000   \n",
       "75%         0.000000       0.000000       0.000000       0.000000   \n",
       "max         1.000000       1.000000       1.000000       4.000000   \n",
       "\n",
       "        SMS_received  \n",
       "count  110527.000000  \n",
       "mean        0.321026  \n",
       "std         0.466873  \n",
       "min         0.000000  \n",
       "25%         0.000000  \n",
       "50%         0.000000  \n",
       "75%         1.000000  \n",
       "max         1.000000  "
      ]
     },
     "execution_count": 4,
     "metadata": {},
     "output_type": "execute_result"
    }
   ],
   "source": [
    "# use describe method to look for anomolies in the statistical analysis of numeric columns\n",
    "df_noshow_data.describe()"
   ]
  },
  {
   "cell_type": "markdown",
   "metadata": {},
   "source": [
    "> The next thing I did was use the describe method to start to understand statisical relationships, mainly looking for outliers, this further highlights PatientID and AppointmentID will not be needed for my analysis.  It also highlights that Handcap has a possible anomoly since its max value is a 4 which I would have assumed to be a max of 1.  The Age column has at least one anomoly, since no one can be -1 years old and while it is possible someone can live to be 115 this may also be an anomoly."
   ]
  },
  {
   "cell_type": "code",
   "execution_count": 5,
   "metadata": {},
   "outputs": [
    {
     "data": {
      "text/plain": [
       "0"
      ]
     },
     "execution_count": 5,
     "metadata": {},
     "output_type": "execute_result"
    }
   ],
   "source": [
    "# use the duplicated method to see if there are any repeated rows\n",
    "df_noshow_data.duplicated().sum()"
   ]
  },
  {
   "cell_type": "markdown",
   "metadata": {},
   "source": [
    "> I check to see if there are any duplicated rows and there are none. the next few steps will be to further research the suspected anomolies."
   ]
  },
  {
   "cell_type": "code",
   "execution_count": 7,
   "metadata": {},
   "outputs": [
    {
     "data": {
      "text/plain": [
       "1"
      ]
     },
     "execution_count": 7,
     "metadata": {},
     "output_type": "execute_result"
    }
   ],
   "source": [
    "#this code is to check how many rows in the age column have negative ages\n",
    "neg_age = df_noshow_data.Age < 0\n",
    "neg_age.sum()"
   ]
  },
  {
   "cell_type": "markdown",
   "metadata": {},
   "source": [
    "> I then check to see how many rows in age have the anomoly of a negative number.  With the amount of data I will remove this row when I clean the data"
   ]
  },
  {
   "cell_type": "code",
   "execution_count": 8,
   "metadata": {},
   "outputs": [
    {
     "data": {
      "text/plain": [
       "199"
      ]
     },
     "execution_count": 8,
     "metadata": {},
     "output_type": "execute_result"
    }
   ],
   "source": [
    "#This code checks how many rows do not adhear to boolean style data type (0 or 1)\n",
    "anom_handcap = df_noshow_data.Handcap > 1\n",
    "anom_handcap.sum()"
   ]
  },
  {
   "cell_type": "markdown",
   "metadata": {},
   "source": [
    "> I check to see how many rows in column Handcap have the anomoly of greater than 1.  I find 199 instances, there is definitely something going on with this column.  Maybe there are different levels of Handicaps?  I reviewed the documentation and it states this column is meant for boolean (0 or 1) style data type, so I will just remove these 199 rows."
   ]
  },
  {
   "cell_type": "code",
   "execution_count": 9,
   "metadata": {},
   "outputs": [
    {
     "data": {
      "text/plain": [
       "11"
      ]
     },
     "execution_count": 9,
     "metadata": {},
     "output_type": "execute_result"
    }
   ],
   "source": [
    "#this code checks to see if the max age of 115 is an anomoly, by checking how many patients were older than 99 years.\n",
    "old_age = df_noshow_data.Age >= 100\n",
    "old_age.sum()"
   ]
  },
  {
   "cell_type": "markdown",
   "metadata": {},
   "source": [
    "> I check the max age to see if it is an anomoly.  I find there are 11 records of ages greater than 99, so I will leave them in for my analysis."
   ]
  },
  {
   "cell_type": "markdown",
   "metadata": {},
   "source": [
    "### Data Cleaning \n",
    "> Based on the steps taken above.  I will remove the patient and appointment ID columns as they add no value to my analysis.  I have noted Handcap has 199 values that do not conform to the 0/1 boolean style, since there are over 110,000 records I have decided to remove these rows.  I also noted an anomoly in the age column where one row had a negative age.  I will remove this row as well.  I noted the two columns holding dates are string datatypes, so I will convert them to the date data type.  I will add a column 'daysbeforeappt' that will hold the difference between the two date columns with a int64 datatype.  I will also create a 'day' column that will hold the day of the appointment in numerical form with 0 = monday 1 = tuesday, 2 = wednesday, etc.  I will change the No-show categorical column to numeric int64 with No = 0 and Yes = 1.   "
   ]
  },
  {
   "cell_type": "code",
   "execution_count": 10,
   "metadata": {},
   "outputs": [
    {
     "data": {
      "text/html": [
       "<div>\n",
       "<style scoped>\n",
       "    .dataframe tbody tr th:only-of-type {\n",
       "        vertical-align: middle;\n",
       "    }\n",
       "\n",
       "    .dataframe tbody tr th {\n",
       "        vertical-align: top;\n",
       "    }\n",
       "\n",
       "    .dataframe thead th {\n",
       "        text-align: right;\n",
       "    }\n",
       "</style>\n",
       "<table border=\"1\" class=\"dataframe\">\n",
       "  <thead>\n",
       "    <tr style=\"text-align: right;\">\n",
       "      <th></th>\n",
       "      <th>gender</th>\n",
       "      <th>scheduledday</th>\n",
       "      <th>appointmentday</th>\n",
       "      <th>age</th>\n",
       "      <th>neighbourhood</th>\n",
       "      <th>scholarship</th>\n",
       "      <th>hipertension</th>\n",
       "      <th>diabetes</th>\n",
       "      <th>alcoholism</th>\n",
       "      <th>handcap</th>\n",
       "      <th>sms_received</th>\n",
       "      <th>no_show</th>\n",
       "    </tr>\n",
       "  </thead>\n",
       "  <tbody>\n",
       "    <tr>\n",
       "      <th>0</th>\n",
       "      <td>F</td>\n",
       "      <td>2016-04-29T18:38:08Z</td>\n",
       "      <td>2016-04-29T00:00:00Z</td>\n",
       "      <td>62</td>\n",
       "      <td>JARDIM DA PENHA</td>\n",
       "      <td>0</td>\n",
       "      <td>1</td>\n",
       "      <td>0</td>\n",
       "      <td>0</td>\n",
       "      <td>0</td>\n",
       "      <td>0</td>\n",
       "      <td>No</td>\n",
       "    </tr>\n",
       "  </tbody>\n",
       "</table>\n",
       "</div>"
      ],
      "text/plain": [
       "  gender          scheduledday        appointmentday  age    neighbourhood  \\\n",
       "0      F  2016-04-29T18:38:08Z  2016-04-29T00:00:00Z   62  JARDIM DA PENHA   \n",
       "\n",
       "   scholarship  hipertension  diabetes  alcoholism  handcap  sms_received  \\\n",
       "0            0             1         0           0        0             0   \n",
       "\n",
       "  no_show  \n",
       "0      No  "
      ]
     },
     "execution_count": 10,
     "metadata": {},
     "output_type": "execute_result"
    }
   ],
   "source": [
    "# Removes the columns PatientId and AppointmentID\n",
    "df_noshow_data.drop(['PatientId','AppointmentID'],axis = 1, inplace =True)\n",
    "# change all columns to lowercase\n",
    "df_noshow_data.rename(str.lower,axis = 1, inplace=True)\n",
    "# fix No-show column name\n",
    "df_noshow_data.rename(columns={'no-show' : 'no_show'}, inplace = True)\n",
    "df_noshow_data.head(1)"
   ]
  },
  {
   "cell_type": "markdown",
   "metadata": {},
   "source": [
    ">  My first step in cleaning the data was to remove the columns I felt were not necessary for my analysis.  I also made all the column names lowercase for easier code writing.  Last thing I did was change no-show to no_show.  I then ran head to verify the columns were removed, column names were lower case and No-show was corrected.  The next step will change the columns scheduleday and appointmentday to datatype = Date"
   ]
  },
  {
   "cell_type": "code",
   "execution_count": 11,
   "metadata": {},
   "outputs": [
    {
     "data": {
      "text/plain": [
       "gender                    object\n",
       "scheduledday      datetime64[ns]\n",
       "appointmentday    datetime64[ns]\n",
       "age                        int64\n",
       "neighbourhood             object\n",
       "scholarship                int64\n",
       "hipertension               int64\n",
       "diabetes                   int64\n",
       "alcoholism                 int64\n",
       "handcap                    int64\n",
       "sms_received               int64\n",
       "no_show                   object\n",
       "dtype: object"
      ]
     },
     "execution_count": 11,
     "metadata": {},
     "output_type": "execute_result"
    }
   ],
   "source": [
    "# Removes time from string data in columns \n",
    "remove_time = ['scheduledday','appointmentday']\n",
    "for col in remove_time:\n",
    "    df_noshow_data[col] = df_noshow_data[col].apply(lambda x: x.split('T')[0])\n",
    "#change column object datatype to datetime datatype\n",
    "df_noshow_data[remove_time] = df_noshow_data[remove_time].apply(pd.to_datetime)\n",
    "df_noshow_data.dtypes"
   ]
  },
  {
   "cell_type": "markdown",
   "metadata": {},
   "source": [
    "> I used the below website to learn how to convert the string to a datetime datatype:\n",
    "https://stackoverflow.com/questions/26763344/convert-pandas-column-to-datetime  \n",
    "I noted that the appointmentday column did not have accurate times (all zeros); therefore for my analysis the time did not appear to be essential, so I split the string data to remove the time element of both columns prior to formatting the string.  This left me with only the date in each column.  I plan on creating a new column that will hold the time elapsed between scheduling and appointment date.  I will then use the new column to analyse any correlation between amount of time elapsed and not showing up."
   ]
  },
  {
   "cell_type": "code",
   "execution_count": 12,
   "metadata": {},
   "outputs": [
    {
     "name": "stdout",
     "output_type": "stream",
     "text": [
      "5\n"
     ]
    },
    {
     "data": {
      "text/html": [
       "<div>\n",
       "<style scoped>\n",
       "    .dataframe tbody tr th:only-of-type {\n",
       "        vertical-align: middle;\n",
       "    }\n",
       "\n",
       "    .dataframe tbody tr th {\n",
       "        vertical-align: top;\n",
       "    }\n",
       "\n",
       "    .dataframe thead th {\n",
       "        text-align: right;\n",
       "    }\n",
       "</style>\n",
       "<table border=\"1\" class=\"dataframe\">\n",
       "  <thead>\n",
       "    <tr style=\"text-align: right;\">\n",
       "      <th></th>\n",
       "      <th>age</th>\n",
       "      <th>scholarship</th>\n",
       "      <th>hipertension</th>\n",
       "      <th>diabetes</th>\n",
       "      <th>alcoholism</th>\n",
       "      <th>handcap</th>\n",
       "      <th>sms_received</th>\n",
       "      <th>time_until_appt</th>\n",
       "    </tr>\n",
       "  </thead>\n",
       "  <tbody>\n",
       "    <tr>\n",
       "      <th>count</th>\n",
       "      <td>110527.000000</td>\n",
       "      <td>110527.000000</td>\n",
       "      <td>110527.000000</td>\n",
       "      <td>110527.000000</td>\n",
       "      <td>110527.000000</td>\n",
       "      <td>110527.000000</td>\n",
       "      <td>110527.000000</td>\n",
       "      <td>110527</td>\n",
       "    </tr>\n",
       "    <tr>\n",
       "      <th>mean</th>\n",
       "      <td>37.088874</td>\n",
       "      <td>0.098266</td>\n",
       "      <td>0.197246</td>\n",
       "      <td>0.071865</td>\n",
       "      <td>0.030400</td>\n",
       "      <td>0.022248</td>\n",
       "      <td>0.321026</td>\n",
       "      <td>10 days 04:24:31.828602</td>\n",
       "    </tr>\n",
       "    <tr>\n",
       "      <th>std</th>\n",
       "      <td>23.110205</td>\n",
       "      <td>0.297675</td>\n",
       "      <td>0.397921</td>\n",
       "      <td>0.258265</td>\n",
       "      <td>0.171686</td>\n",
       "      <td>0.161543</td>\n",
       "      <td>0.466873</td>\n",
       "      <td>15 days 06:07:11.673762</td>\n",
       "    </tr>\n",
       "    <tr>\n",
       "      <th>min</th>\n",
       "      <td>-1.000000</td>\n",
       "      <td>0.000000</td>\n",
       "      <td>0.000000</td>\n",
       "      <td>0.000000</td>\n",
       "      <td>0.000000</td>\n",
       "      <td>0.000000</td>\n",
       "      <td>0.000000</td>\n",
       "      <td>-6 days +00:00:00</td>\n",
       "    </tr>\n",
       "    <tr>\n",
       "      <th>25%</th>\n",
       "      <td>18.000000</td>\n",
       "      <td>0.000000</td>\n",
       "      <td>0.000000</td>\n",
       "      <td>0.000000</td>\n",
       "      <td>0.000000</td>\n",
       "      <td>0.000000</td>\n",
       "      <td>0.000000</td>\n",
       "      <td>0 days 00:00:00</td>\n",
       "    </tr>\n",
       "    <tr>\n",
       "      <th>50%</th>\n",
       "      <td>37.000000</td>\n",
       "      <td>0.000000</td>\n",
       "      <td>0.000000</td>\n",
       "      <td>0.000000</td>\n",
       "      <td>0.000000</td>\n",
       "      <td>0.000000</td>\n",
       "      <td>0.000000</td>\n",
       "      <td>4 days 00:00:00</td>\n",
       "    </tr>\n",
       "    <tr>\n",
       "      <th>75%</th>\n",
       "      <td>55.000000</td>\n",
       "      <td>0.000000</td>\n",
       "      <td>0.000000</td>\n",
       "      <td>0.000000</td>\n",
       "      <td>0.000000</td>\n",
       "      <td>0.000000</td>\n",
       "      <td>1.000000</td>\n",
       "      <td>15 days 00:00:00</td>\n",
       "    </tr>\n",
       "    <tr>\n",
       "      <th>max</th>\n",
       "      <td>115.000000</td>\n",
       "      <td>1.000000</td>\n",
       "      <td>1.000000</td>\n",
       "      <td>1.000000</td>\n",
       "      <td>1.000000</td>\n",
       "      <td>4.000000</td>\n",
       "      <td>1.000000</td>\n",
       "      <td>179 days 00:00:00</td>\n",
       "    </tr>\n",
       "  </tbody>\n",
       "</table>\n",
       "</div>"
      ],
      "text/plain": [
       "                 age    scholarship   hipertension       diabetes  \\\n",
       "count  110527.000000  110527.000000  110527.000000  110527.000000   \n",
       "mean       37.088874       0.098266       0.197246       0.071865   \n",
       "std        23.110205       0.297675       0.397921       0.258265   \n",
       "min        -1.000000       0.000000       0.000000       0.000000   \n",
       "25%        18.000000       0.000000       0.000000       0.000000   \n",
       "50%        37.000000       0.000000       0.000000       0.000000   \n",
       "75%        55.000000       0.000000       0.000000       0.000000   \n",
       "max       115.000000       1.000000       1.000000       1.000000   \n",
       "\n",
       "          alcoholism        handcap   sms_received          time_until_appt  \n",
       "count  110527.000000  110527.000000  110527.000000                   110527  \n",
       "mean        0.030400       0.022248       0.321026  10 days 04:24:31.828602  \n",
       "std         0.171686       0.161543       0.466873  15 days 06:07:11.673762  \n",
       "min         0.000000       0.000000       0.000000        -6 days +00:00:00  \n",
       "25%         0.000000       0.000000       0.000000          0 days 00:00:00  \n",
       "50%         0.000000       0.000000       0.000000          4 days 00:00:00  \n",
       "75%         0.000000       0.000000       1.000000         15 days 00:00:00  \n",
       "max         1.000000       4.000000       1.000000        179 days 00:00:00  "
      ]
     },
     "execution_count": 12,
     "metadata": {},
     "output_type": "execute_result"
    }
   ],
   "source": [
    "#Add new column to hold the date difference from time scheduled to the appointment day\n",
    "df_noshow_data['time_until_appt'] = df_noshow_data.appointmentday - df_noshow_data.scheduledday\n",
    "#this code is to check for any anomolies in the newly created column for negative days which isnt realistic\n",
    "neg_appt_time = df_noshow_data.time_until_appt < dt.timedelta(days = 0)\n",
    "print(neg_appt_time.sum())\n",
    "df_noshow_data.describe()"
   ]
  },
  {
   "cell_type": "markdown",
   "metadata": {},
   "source": [
    "> The above code created a new column that indicates the amount of time from scheduling the appointment to the actual appointment date.  I am curious to see if this as a correlation with people showing up for their appointment.  I then checked to see if there were any anomolies in the new column and noted there were 5 negative values which should not be possilbe. The next line of code will create another new column this time with the day of the appointment with datatype int 0 = Monday ...6 = Sunday.  "
   ]
  },
  {
   "cell_type": "code",
   "execution_count": 13,
   "metadata": {},
   "outputs": [
    {
     "name": "stdout",
     "output_type": "stream",
     "text": [
      "<class 'pandas.core.frame.DataFrame'>\n",
      "RangeIndex: 110527 entries, 0 to 110526\n",
      "Data columns (total 14 columns):\n",
      "gender             110527 non-null object\n",
      "scheduledday       110527 non-null datetime64[ns]\n",
      "appointmentday     110527 non-null datetime64[ns]\n",
      "age                110527 non-null int64\n",
      "neighbourhood      110527 non-null object\n",
      "scholarship        110527 non-null int64\n",
      "hipertension       110527 non-null int64\n",
      "diabetes           110527 non-null int64\n",
      "alcoholism         110527 non-null int64\n",
      "handcap            110527 non-null int64\n",
      "sms_received       110527 non-null int64\n",
      "no_show            110527 non-null object\n",
      "time_until_appt    110527 non-null timedelta64[ns]\n",
      "day_of_appt        110527 non-null int64\n",
      "dtypes: datetime64[ns](2), int64(8), object(3), timedelta64[ns](1)\n",
      "memory usage: 11.8+ MB\n"
     ]
    }
   ],
   "source": [
    "# Add new column to hold the day in numerical form (0=Monday...6=Sunday)\n",
    "df_noshow_data['day_of_appt'] = df_noshow_data.appointmentday.dt.weekday\n",
    "df_noshow_data.info()"
   ]
  },
  {
   "cell_type": "markdown",
   "metadata": {},
   "source": [
    ">  The above code created a new column that took the appointmentday date and converted it to a numerical number that represents the day of the week.  I would like to analyse the day of the appointment to determine if the day of the appointment correlates to a person no showing up for their appointment.  The next step I will take in cleaning the data is remove the rows that have anomolies. "
   ]
  },
  {
   "cell_type": "code",
   "execution_count": 14,
   "metadata": {},
   "outputs": [
    {
     "data": {
      "text/plain": [
       "(110322, 14)"
      ]
     },
     "execution_count": 14,
     "metadata": {},
     "output_type": "execute_result"
    }
   ],
   "source": [
    "# find the index of all anomolies to be removed\n",
    "Anom_ix = df_noshow_data[(df_noshow_data.time_until_appt < dt.timedelta(days = 0)) |\n",
    "                         (df_noshow_data.age < 0) |\n",
    "                         (df_noshow_data.handcap > 1)].index\n",
    "# drop rows with anomolies\n",
    "df_noshow_data.drop(Anom_ix,inplace=True)\n",
    "df_noshow_data.shape"
   ]
  },
  {
   "cell_type": "markdown",
   "metadata": {},
   "source": [
    "> The code above removed rows that had anomolies in the columns time_until_appt, age and handcap.  This removed 205 rows from the initial data set.  The next thing I will do is remove the appointmentday and scheduledday columns as I believe the newly created columns are better for my analysis and render the previously mentioned columns useless for my analysis."
   ]
  },
  {
   "cell_type": "code",
   "execution_count": 15,
   "metadata": {},
   "outputs": [
    {
     "data": {
      "text/html": [
       "<div>\n",
       "<style scoped>\n",
       "    .dataframe tbody tr th:only-of-type {\n",
       "        vertical-align: middle;\n",
       "    }\n",
       "\n",
       "    .dataframe tbody tr th {\n",
       "        vertical-align: top;\n",
       "    }\n",
       "\n",
       "    .dataframe thead th {\n",
       "        text-align: right;\n",
       "    }\n",
       "</style>\n",
       "<table border=\"1\" class=\"dataframe\">\n",
       "  <thead>\n",
       "    <tr style=\"text-align: right;\">\n",
       "      <th></th>\n",
       "      <th>gender</th>\n",
       "      <th>age</th>\n",
       "      <th>neighbourhood</th>\n",
       "      <th>scholarship</th>\n",
       "      <th>hipertension</th>\n",
       "      <th>diabetes</th>\n",
       "      <th>alcoholism</th>\n",
       "      <th>handcap</th>\n",
       "      <th>sms_received</th>\n",
       "      <th>no_show</th>\n",
       "      <th>time_until_appt</th>\n",
       "      <th>day_of_appt</th>\n",
       "    </tr>\n",
       "  </thead>\n",
       "  <tbody>\n",
       "    <tr>\n",
       "      <th>0</th>\n",
       "      <td>F</td>\n",
       "      <td>62</td>\n",
       "      <td>JARDIM DA PENHA</td>\n",
       "      <td>0</td>\n",
       "      <td>1</td>\n",
       "      <td>0</td>\n",
       "      <td>0</td>\n",
       "      <td>0</td>\n",
       "      <td>0</td>\n",
       "      <td>No</td>\n",
       "      <td>0 days</td>\n",
       "      <td>4</td>\n",
       "    </tr>\n",
       "  </tbody>\n",
       "</table>\n",
       "</div>"
      ],
      "text/plain": [
       "  gender  age    neighbourhood  scholarship  hipertension  diabetes  \\\n",
       "0      F   62  JARDIM DA PENHA            0             1         0   \n",
       "\n",
       "   alcoholism  handcap  sms_received no_show time_until_appt  day_of_appt  \n",
       "0           0        0             0      No          0 days            4  "
      ]
     },
     "execution_count": 15,
     "metadata": {},
     "output_type": "execute_result"
    }
   ],
   "source": [
    "# Removes the columns scheduledday and appointmentday\n",
    "df_noshow_data.drop(['scheduledday','appointmentday'],axis = 1, inplace =True)\n",
    "df_noshow_data.head(1)"
   ]
  },
  {
   "cell_type": "markdown",
   "metadata": {},
   "source": [
    "> I used the drop method to remove the initial date columns.  I believe my new columns time_until_appt and day_of_appt are better suited for my analysis.  The next step will be to convert the No-show column to int datatype where 0=No and 1=Yes.  This should allow me to better analyse the data."
   ]
  },
  {
   "cell_type": "code",
   "execution_count": 16,
   "metadata": {},
   "outputs": [
    {
     "name": "stdout",
     "output_type": "stream",
     "text": [
      "int64\n"
     ]
    },
    {
     "data": {
      "text/html": [
       "<div>\n",
       "<style scoped>\n",
       "    .dataframe tbody tr th:only-of-type {\n",
       "        vertical-align: middle;\n",
       "    }\n",
       "\n",
       "    .dataframe tbody tr th {\n",
       "        vertical-align: top;\n",
       "    }\n",
       "\n",
       "    .dataframe thead th {\n",
       "        text-align: right;\n",
       "    }\n",
       "</style>\n",
       "<table border=\"1\" class=\"dataframe\">\n",
       "  <thead>\n",
       "    <tr style=\"text-align: right;\">\n",
       "      <th></th>\n",
       "      <th>gender</th>\n",
       "      <th>age</th>\n",
       "      <th>neighbourhood</th>\n",
       "      <th>scholarship</th>\n",
       "      <th>hipertension</th>\n",
       "      <th>diabetes</th>\n",
       "      <th>alcoholism</th>\n",
       "      <th>handcap</th>\n",
       "      <th>sms_received</th>\n",
       "      <th>no_show</th>\n",
       "      <th>time_until_appt</th>\n",
       "      <th>day_of_appt</th>\n",
       "    </tr>\n",
       "  </thead>\n",
       "  <tbody>\n",
       "    <tr>\n",
       "      <th>0</th>\n",
       "      <td>F</td>\n",
       "      <td>62</td>\n",
       "      <td>JARDIM DA PENHA</td>\n",
       "      <td>0</td>\n",
       "      <td>1</td>\n",
       "      <td>0</td>\n",
       "      <td>0</td>\n",
       "      <td>0</td>\n",
       "      <td>0</td>\n",
       "      <td>0</td>\n",
       "      <td>0 days</td>\n",
       "      <td>4</td>\n",
       "    </tr>\n",
       "  </tbody>\n",
       "</table>\n",
       "</div>"
      ],
      "text/plain": [
       "  gender  age    neighbourhood  scholarship  hipertension  diabetes  \\\n",
       "0      F   62  JARDIM DA PENHA            0             1         0   \n",
       "\n",
       "   alcoholism  handcap  sms_received  no_show time_until_appt  day_of_appt  \n",
       "0           0        0             0        0          0 days            4  "
      ]
     },
     "execution_count": 16,
     "metadata": {},
     "output_type": "execute_result"
    }
   ],
   "source": [
    "# change the values in the no_show column using the replace method, No = 0 and Yes = 1.\n",
    "df_noshow_data.no_show.replace(to_replace='No', value= 0,inplace=True)\n",
    "df_noshow_data.no_show.replace(to_replace='Yes', value= 1,inplace=True)\n",
    "#display dataset to confirm values were changed\n",
    "print(df_noshow_data.no_show.dtypes)\n",
    "df_noshow_data.head(1)"
   ]
  },
  {
   "cell_type": "markdown",
   "metadata": {},
   "source": [
    "> The above code changed the No and Yes string data in no_show to 0 and 1 integer data.  I believe this will be better suited to my Exploratory Data Analysis (EDA).  I am finally doen cleaning my data and ready to start questioning and exploring the cleaned dataset."
   ]
  },
  {
   "cell_type": "markdown",
   "metadata": {},
   "source": [
    "<a id='eda'></a>\n",
    "## Exploratory Data Analysis\n",
    "\n",
    "> I did some work in Spyder looking at the different means of the remaining statistical categories and noted clients with illneses appeared to have a higher average rate of making their appointments for each illness.  This lead me to my first question. Is there a negative correlation of having an illness and missing an appointment?\n",
    "\n",
    "### Research Question 1: Does having an illness mean client is less likely to miss an appointment?"
   ]
  },
  {
   "cell_type": "code",
   "execution_count": 17,
   "metadata": {},
   "outputs": [
    {
     "data": {
      "text/plain": [
       "[0.8217160734042959, 0.1782839265957041]"
      ]
     },
     "execution_count": 17,
     "metadata": {},
     "output_type": "execute_result"
    }
   ],
   "source": [
    "# creates a subset to focus only on the clients that had an illness\n",
    "ill_clients = df_noshow_data[(df_noshow_data.hipertension == 1) |\n",
    "                             (df_noshow_data.diabetes == 1) |\n",
    "                             (df_noshow_data.alcoholism == 1) |\n",
    "                             (df_noshow_data.handcap == 1)]\n",
    "# creates two subsets of the ill clients: those that made their appointments and those that missed their appointments\n",
    "ill_clients_made = ill_clients[ill_clients.no_show == 0]\n",
    "ill_clients_missed = ill_clients[ill_clients.no_show == 1]\n",
    "# store the percentage of ill clients that made apppointments\n",
    "pct_ill_made_appt = ill_clients_made.no_show.count()/ill_clients.no_show.count()\n",
    "# store the percentage of ill clients that missed appointments\n",
    "pct_ill_missed_appt = ill_clients_missed.no_show.count()/ill_clients.no_show.count()\n",
    "# place the percentage calculations above into a list to be used by matlib.pyplot bar chart\n",
    "pct_ill_stats = [pct_ill_made_appt,pct_ill_missed_appt]#print the stored data which highlights clients with illness are less likely to miss their appointment\n",
    "pct_ill_stats\n"
   ]
  },
  {
   "cell_type": "code",
   "execution_count": 18,
   "metadata": {},
   "outputs": [
    {
     "data": {
      "image/png": "[encoded data removed]",
      "text/plain": [
       "<Figure size 432x288 with 1 Axes>"
      ]
     },
     "metadata": {},
     "output_type": "display_data"
    }
   ],
   "source": [
    "# holds the number of bars to be used in the bar chart\n",
    "x =np.arange(2)\n",
    "# set colors for plyplot bars\n",
    "bar_colors =['lightgreen','lightblue']\n",
    "# setsup the pie plot with necessary information like labels and where to find the data to display\n",
    "plt.title('Percentage of clients with illness show/no show')\n",
    "plt.pie(pct_ill_stats,labels = ('Made','Missed'),autopct='%1.1f%%')\n",
    "plt;"
   ]
  },
  {
   "cell_type": "markdown",
   "metadata": {},
   "source": [
    "> The above code sections were used to split the dataset into subsets, then calculations were performed on the subset to understand the numbers of ill patients (pre-existing condition) that made or missed their appointments. I then created a pie chart to show that ill people tended to show up.  This however is only the starting point to really understand if there is a correlation we must compare the above statistical data against the numbers for non ill (healthy) clients to see if people with illnesses are less likely to miss an appointment."
   ]
  },
  {
   "cell_type": "code",
   "execution_count": 19,
   "metadata": {},
   "outputs": [
    {
     "data": {
      "text/plain": [
       "[0.7907526958423987, 0.20924730415760126]"
      ]
     },
     "execution_count": 19,
     "metadata": {},
     "output_type": "execute_result"
    }
   ],
   "source": [
    "# create a subset to focus only on the clients that don't have a pre-existing condition (healthy).\n",
    "healthy_clients = df_noshow_data[(df_noshow_data.hipertension == 0) &\n",
    "                             (df_noshow_data.diabetes == 0) &\n",
    "                             (df_noshow_data.alcoholism == 0) &\n",
    "                             (df_noshow_data.handcap == 0)]\n",
    "# creates two subsets of the healthy clients: those that made their appointments and those that missed their appointments\n",
    "healthy_made = healthy_clients[healthy_clients.no_show == 0]\n",
    "healthy_missed = healthy_clients[healthy_clients.no_show == 1]\n",
    "# store the percentage of healthy clients that made apppointments\n",
    "pct_healthy_made = healthy_made.no_show.count()/healthy_clients.no_show.count()\n",
    "# store the percentage of healthy clients that missed appointments\n",
    "pct_healthy_missed= healthy_missed.no_show.count()/healthy_clients.no_show.count()\n",
    "# place the percentage calculations above into a list to be used by matlib.pyplot bar chart\n",
    "pct_healthy_stats = [pct_healthy_made,pct_healthy_missed]\n",
    "pct_healthy_stats"
   ]
  },
  {
   "cell_type": "code",
   "execution_count": 20,
   "metadata": {},
   "outputs": [
    {
     "data": {
      "image/png": "[encoded data removed]",
      "text/plain": [
       "<Figure size 432x288 with 1 Axes>"
      ]
     },
     "metadata": {
      "needs_background": "light"
     },
     "output_type": "display_data"
    }
   ],
   "source": [
    "# holds the number of bars to be used in the bar chart\n",
    "x =np.arange(2)\n",
    "# setsup the bar plot with necessary information like labels and where to find the data to display\n",
    "plt.title('Percentage of healthy clients show/no show')\n",
    "plt.xlabel('healthy Patients Appointments')\n",
    "plt.ylabel('Percentage')\n",
    "plt.bar(x,pct_healthy_stats,color = bar_colors)\n",
    "plt.xticks(x,('Made','Missed'))\n",
    "plt;"
   ]
  },
  {
   "cell_type": "markdown",
   "metadata": {},
   "source": [
    "> based on the previous two bar charts there appears to be correlation between people with pre-existing conditions being less likely to miss their appointment and people without pre-existing conditions being more likely to miss appointments.  The next section will hopefully further show this by charting healthy vs ill client missed percentages."
   ]
  },
  {
   "cell_type": "code",
   "execution_count": 21,
   "metadata": {},
   "outputs": [
    {
     "name": "stdout",
     "output_type": "stream",
     "text": [
      "[0.1782839265957041, 0.20924730415760126]\n"
     ]
    },
    {
     "data": {
      "image/png": "[encoded data removed]",
      "text/plain": [
       "<Figure size 432x288 with 1 Axes>"
      ]
     },
     "metadata": {
      "needs_background": "light"
     },
     "output_type": "display_data"
    }
   ],
   "source": [
    "# place the percentage calculations above into a list to be used by matlib.pyplot bar chart\n",
    "pct_cmb_missed_stats = [pct_ill_missed_appt,pct_healthy_missed]\n",
    "print(pct_cmb_missed_stats)\n",
    "# holds the number of bars to be used in the bar chart\n",
    "x =np.arange(2)\n",
    "# setsup the bar plot with necessary information like labels and where to find the data to display\n",
    "plt.title('Percentage of clients no show by health condition')\n",
    "plt.xlabel('Patients Condition Missed Appointments')\n",
    "plt.ylabel('Percentage')\n",
    "plt.bar(x,pct_cmb_missed_stats, color=bar_colors)\n",
    "plt.xticks(x,('Pre-Existing','No Pre-existing'))\n",
    "plt;"
   ]
  },
  {
   "cell_type": "markdown",
   "metadata": {},
   "source": [
    "> The data seems to support my question that having a pre-existing condition negatively correlates to missing an appointment, while also presenting data that not having a pre-existing condition positively correlates to missing an appointment.  The total number of clients without pre-existing conditions was ~76% of the total dataset.  I believe there was enough records in both groups to show correlation.  What I have not done is confirm if any other factors may be influencing the above numbers.  The next question will explore if there is a correlation of missing appointments based on gender."
   ]
  },
  {
   "cell_type": "markdown",
   "metadata": {},
   "source": [
    "### Research Question 2  Are females more likely to miss appointments?"
   ]
  },
  {
   "cell_type": "code",
   "execution_count": 22,
   "metadata": {},
   "outputs": [
    {
     "data": {
      "text/plain": [
       "[0.1997149889882109, 0.37738048970073845]"
      ]
     },
     "execution_count": 22,
     "metadata": {},
     "output_type": "execute_result"
    }
   ],
   "source": [
    "#create two subsets: total number of male clients and total number of female clients\n",
    "tot_male_clients = df_noshow_data[(df_noshow_data.gender == 'M')]\n",
    "tot_female_clients = df_noshow_data[(df_noshow_data.gender == 'F')]  \n",
    "#create two more subsets: total number of males that missed appts and total number of females that missed appts\n",
    "missed_appt_male = df_noshow_data[(df_noshow_data.no_show == 1) &\n",
    "                                  (df_noshow_data.gender == 'M')]\n",
    "missed_appt_female = df_noshow_data[(df_noshow_data.no_show == 1) &\n",
    "                                  (df_noshow_data.gender == 'F')]\n",
    "#store percentage of males that missed appointments\n",
    "pct_males_missed = missed_appt_male.no_show.count()/tot_male_clients.no_show.count()\n",
    "#store percentage of femailes that missed appointments\n",
    "pct_females_missed = missed_appt_female.no_show.count()/tot_male_clients.no_show.count()\n",
    "#place percentages calculated above in list to be used by matplotlib.pyplot bar chart\n",
    "pct_cmb_gender_stats = [pct_males_missed,pct_females_missed]\n",
    "pct_cmb_gender_stats"
   ]
  },
  {
   "cell_type": "code",
   "execution_count": 23,
   "metadata": {},
   "outputs": [
    {
     "data": {
      "image/png": "[encoded data removed]",
      "text/plain": [
       "<Figure size 432x288 with 1 Axes>"
      ]
     },
     "metadata": {
      "needs_background": "light"
     },
     "output_type": "display_data"
    }
   ],
   "source": [
    "# holds the number of bars to be used in the bar chart\n",
    "x =np.arange(2)\n",
    "# setsup the bar plot with necessary information like labels and where to find the data to display\n",
    "plt.title('Percentage of male vs female clients that no-showed')\n",
    "plt.xlabel('Gender')\n",
    "plt.ylabel('Percentage')\n",
    "plt.bar(x,pct_cmb_gender_stats, color=bar_colors)\n",
    "plt.xticks(x,('Male','Female'))\n",
    "plt;"
   ]
  },
  {
   "cell_type": "markdown",
   "metadata": {},
   "source": [
    "> The above code cut through the many steps used in question 1 to quickly highlight that females are ~twice as likely to miss an appointment than males.  this quick analysis does not include research into any underlying reasons that may attribute to females missing more appointments than males.  "
   ]
  },
  {
   "cell_type": "markdown",
   "metadata": {},
   "source": [
    "### Research Question 3  Are people that receive SMS notifications more likely to miss appointments?"
   ]
  },
  {
   "cell_type": "code",
   "execution_count": 24,
   "metadata": {},
   "outputs": [
    {
     "name": "stdout",
     "output_type": "stream",
     "text": [
      "sms_received and made appt: 0.291429\n",
      "sms received and missed appt: 0.438872\n"
     ]
    }
   ],
   "source": [
    "#create two subsets clients that made their appointments and clients that missed their appointments\n",
    "made_appt = df_noshow_data.no_show == 0\n",
    "missed_appt = df_noshow_data.no_show == 1\n",
    "#print the average of clients that received a sms message and made their appointment\n",
    "print('sms_received and made appt: %f' % df_noshow_data.sms_received[made_appt].mean())\n",
    "#print the average of clients that received an sms and missed their appointment\n",
    "print('sms received and missed appt: %f' % df_noshow_data.sms_received[missed_appt].mean())"
   ]
  },
  {
   "cell_type": "markdown",
   "metadata": {},
   "source": [
    "> This is very interesting as I would assume communication with the client would lead to less no shows.  based on the averages this is not the case.  This analysis highlights a quick way to assertain if there may be a correlation between two different data groups (columns).  There could be other underlying circumstances that make this appear to be positively correlated to missing appointments.  To better understand the sms received data would have to be compared to different columns in the dataset.  I am going to ask one more question regarding the neighbourhoods below."
   ]
  },
  {
   "cell_type": "markdown",
   "metadata": {},
   "source": [
    "### Research Question 4  Does where a client live have an impact on no shows?"
   ]
  },
  {
   "cell_type": "code",
   "execution_count": 25,
   "metadata": {},
   "outputs": [
    {
     "data": {
      "text/plain": [
       "neighbourhood\n",
       "ANDORINHAS           0.230599\n",
       "CARATOÍRA            0.230109\n",
       "CENTRO               0.210511\n",
       "CRUZAMENTO           0.217454\n",
       "GURIGICA             0.225966\n",
       "ILHA DAS CAIEIRAS    0.220244\n",
       "ILHA DO PRÍNCIPE     0.232846\n",
       "ITARARÉ              0.262618\n",
       "JESUS DE NAZARETH    0.243954\n",
       "MARUÍPE              0.223041\n",
       "PRAIA DO SUÁ         0.229150\n",
       "ROMÃO                0.214059\n",
       "SANTOS DUMONT        0.289639\n",
       "SÃO JOSÉ             0.215915\n",
       "SÃO PEDRO            0.210440\n",
       "Name: no_show, dtype: float64"
      ]
     },
     "execution_count": 25,
     "metadata": {},
     "output_type": "execute_result"
    }
   ],
   "source": [
    "#create a subset of clients that missed their appointments\n",
    "missed_appt_neighbor = df_noshow_data[df_noshow_data.no_show == 1]\n",
    "# creates a subset of original dataset grouped by neighborhoods\n",
    "tot_neighbor_appt = df_noshow_data.groupby('neighbourhood').no_show.count()\n",
    "# finds the index of neighborhoods with less than 1,000 appointments and use drop method to remove\n",
    "tot_neighbor_ix =tot_neighbor_appt[(tot_neighbor_appt < 1000)].index\n",
    "tot_neighbor_appt.drop(tot_neighbor_ix, inplace = True)\n",
    "# creates subset of data from subset of data for missed appt grouped by neighborhood\n",
    "missed_neighbor = missed_appt_neighbor.groupby('neighbourhood').no_show.count()\n",
    "# drops rows from missed_neighbor subset based on neighborhoods with less than 1,000 total appointments\n",
    "missed_neighbor.drop(tot_neighbor_ix,inplace =True,errors = 'ignore')\n",
    "#create percentage of missed appointments grouped by neighborhoods\n",
    "pct_missed_neighbor = missed_neighbor/tot_neighbor_appt\n",
    "# finds the index of neighborhoods whose miss percentage is below 21% and drop them\n",
    "pct_neighbor_missed_ix = pct_missed_neighbor[(pct_missed_neighbor < 0.21)].index\n",
    "pct_missed_neighbor.drop(pct_neighbor_missed_ix,inplace = True)\n",
    "pct_missed_neighbor"
   ]
  },
  {
   "cell_type": "markdown",
   "metadata": {},
   "source": [
    "> There are 81 unique neighborhoods in the original dataset.  The above code reduces the amount of neighborhoods by considering only neighborhoods that would be statisitically significant (neighborhoods with < 1,000 appts scheduled were removed).  This knocked the number of unique neighborhoods to 39.  The next step was to reduce the neighborhoods more by looking for neighborhoods that had no shows at a rate greater than non pre-existing condition client no shows (~21%).  This reduce the number of neighborhoods to 15.  The next code sell will reduce it down to the top 6 neighborhoods for no shows."
   ]
  },
  {
   "cell_type": "code",
   "execution_count": 26,
   "metadata": {},
   "outputs": [
    {
     "data": {
      "image/png": "[encoded data removed]",
      "text/plain": [
       "<Figure size 432x288 with 1 Axes>"
      ]
     },
     "metadata": {
      "needs_background": "light"
     },
     "output_type": "display_data"
    }
   ],
   "source": [
    "# finds the index of neighborhoods whose miss percentage is below 23% and drop them\n",
    "pct_neighbor_missed_ix = pct_missed_neighbor[(pct_missed_neighbor < 0.23)].index\n",
    "pct_missed_neighbor.drop(pct_neighbor_missed_ix,inplace = True)\n",
    "# create bar chart to display top 6 neighborhoods\n",
    "pct_missed_neighbor.plot(kind='bar',color = ('lightblue','lightgreen','pink','blue','green','magenta'), title ='Top 6 Nieghborhoods: highest no show pct');"
   ]
  },
  {
   "cell_type": "markdown",
   "metadata": {},
   "source": [
    "> This last section narrows the neighborhoods to the Top 6 areas where the missed appointment percentage is the greatest (>23%).  There appears to be a correlation with the neighborhood client is located and missing appointments.  At this point it is not a very strong association based on the sheer number of neighborhoods.  To better understand one would need to see if the neighborhoods could be grouped into a wider area.  It would benefit if there was data on clients distance from the hospital.  As stated there appear to be several neighborhoods that have clients miss appointments compared to the overall percentage of missed appointments as a whole."
   ]
  },
  {
   "cell_type": "markdown",
   "metadata": {},
   "source": [
    "<a id='conclusions'></a>\n",
    "## Conclusions\n",
    "> The findings from the EDA portion indicate there may be something to clients that have pre-existing conditions are not as likely to miss an appointment as clients without pre-existing conditions and that females appear to be more likely to miss an appointment when comparted to males.  The strangest exploration of the data came from studying the mean value of clients that received sms communication from the hospital compared to if client eventually made the appointment or missed the appointment.  The data indicated there may be a link to missing appointment if client receives sms message.  The exploration was very limited and further investigation would be required, possibly understanding what exactly the sms texts are concerning might help better understand if there is a correlation.  I then worked on determining if the area the hospital is located has an affect on no shows.  This was a daunting task and through the exploration I noted variance between neghborhoods and noticed some of them did not have enough appointments to make a significant statistical judgement.  I elemenated the neighborhoods that had less than 1,000 appointments (since the data set was >110,000).  I then decided to look at hostpitals that had no show rates greater than the rate for healthy clients overall (found when answering my 1st question) which is ~21% and found 15 neighborhoods that had no show rates > healthy misses, indicating area may have some significance to rate of no shows.  I ended by highlighting the top 6 neighborhoods with greatest percentage of no shows with the top 1 ~28%.\n",
    "\n",
    "> I started out thinking the dates may have significance, so I added columns only to realize there was enough columns in original dataset to answer 3/4 questions.  There are further questions I have and the next one was going to be based on time between scheduling and appointment date.  I used spyder to due a quick median test and there appears to be some correlation. The other idea I had was studying the day of the week, but a quick median test seems to indicate there isn't a correlation.  This dataset can be explored in further detail.  A quick median test of the Age (in spyder) indicated older people may miss more appointments.  I hope I have satisfied the needs of this exercise, as I feel the work I did just scratched the surface.\n",
    "> I am fairly new to Python, so I did spend time in the panda & matplotlib documentation exploring how to present and manipulate the data. Below is the main page.\n",
    "https://pandas.pydata.org/pandas-docs/stable/reference/index.html\n",
    "https://matplotlib.org/gallery/pie_and_polar_charts/pie_features.html#sphx-glr-gallery-pie-and-polar-charts-pie-features-py\n"
   ]
  }
 ],
 "metadata": {
  "kernelspec": {
   "display_name": "Python 3",
   "language": "python",
   "name": "python3"
  },
  "language_info": {
   "codemirror_mode": {
    "name": "ipython",
    "version": 3
   },
   "file_extension": ".py",
   "mimetype": "text/x-python",
   "name": "python",
   "nbconvert_exporter": "python",
   "pygments_lexer": "ipython3",
   "version": "3.7.3"
  }
 },
 "nbformat": 4,
 "nbformat_minor": 2
}
